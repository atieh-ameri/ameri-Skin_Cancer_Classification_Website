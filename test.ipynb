{
 "cells": [
  {
   "cell_type": "code",
   "execution_count": 3,
   "id": "de0d7600",
   "metadata": {},
   "outputs": [
    {
     "name": "stderr",
     "output_type": "stream",
     "text": [
      "WARNING:absl:Compiled the loaded model, but the compiled metrics have yet to be built. `model.compile_metrics` will be empty until you train or evaluate the model.\n"
     ]
    },
    {
     "name": "stdout",
     "output_type": "stream",
     "text": [
      "\u001b[1m1/1\u001b[0m \u001b[32m━━━━━━━━━━━━━━━━━━━━\u001b[0m\u001b[37m\u001b[0m \u001b[1m1s\u001b[0m 530ms/step\n",
      "Raw prediction array: [[0.9981328]]\n",
      "Malignant probability: 99.81%\n"
     ]
    }
   ],
   "source": [
    "import tensorflow as tf\n",
    "from tensorflow.keras.preprocessing import image\n",
    "import numpy as np\n",
    "\n",
    "# Load your model\n",
    "model = tf.keras.models.load_model('xception_isic2024_final.h5')\n",
    "\n",
    "# Image path\n",
    "img_path = 'myProject/media/uploads/cropped_image.jpeg'\n",
    "\n",
    "try:\n",
    "    # Load and preprocess the image with CORRECT input size\n",
    "    img = image.load_img(img_path, target_size=(299, 299))  # Changed to 299x299\n",
    "    img_array = image.img_to_array(img)\n",
    "    img_array = np.expand_dims(img_array, axis=0)\n",
    "    img_array = img_array / 255.0  # Normalize to [0,1]\n",
    "\n",
    "    # Make prediction\n",
    "    prediction = model.predict(img_array)\n",
    "    \n",
    "    # Process output\n",
    "    print(\"Raw prediction array:\", prediction)\n",
    "    \n",
    "    # For classification models:\n",
    "    if len(prediction[0]) > 1:  # Multiclass\n",
    "        predicted_class = np.argmax(prediction)\n",
    "        confidence = np.max(prediction)\n",
    "        print(f\"Predicted class: {predicted_class} with confidence: {confidence:.2%}\")\n",
    "    else:  # Binary\n",
    "        confidence = prediction[0][0]\n",
    "        print(f\"Malignant probability: {confidence:.2%}\") if confidence > 0.5 else print(f\"Benign probability: {1-confidence:.2%}\")\n",
    "\n",
    "except Exception as e:\n",
    "    print(f\"Error: {str(e)}\")\n",
    "    print(\"\\nTroubleshooting checklist:\")\n",
    "    print(\"1. Image exists at path:\", img_path)\n",
    "    print(\"2. Model expects input shape:\", model.input_shape)\n",
    "    print(\"3. Image loaded with correct size (299x299 for Xception/Inception)\")\n",
    "    print(\"4. Image has 3 channels (RGB)\")"
   ]
  }
 ],
 "metadata": {
  "kernelspec": {
   "display_name": ".venv",
   "language": "python",
   "name": "python3"
  },
  "language_info": {
   "codemirror_mode": {
    "name": "ipython",
    "version": 3
   },
   "file_extension": ".py",
   "mimetype": "text/x-python",
   "name": "python",
   "nbconvert_exporter": "python",
   "pygments_lexer": "ipython3",
   "version": "3.10.11"
  }
 },
 "nbformat": 4,
 "nbformat_minor": 5
}
